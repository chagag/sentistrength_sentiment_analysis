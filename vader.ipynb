{
 "cells": [
  {
   "cell_type": "code",
   "execution_count": 51,
   "metadata": {
    "scrolled": true
   },
   "outputs": [
    {
     "name": "stdout",
     "output_type": "stream",
     "text": [
      "Empty DataFrame\n",
      "Columns: [neg, neu, pos, compound, text]\n",
      "Index: []\n"
     ]
    }
   ],
   "source": [
    "import pandas as pd\n",
    "import os\n",
    "from vaderSentiment.vaderSentiment import SentimentIntensityAnalyzer\n",
    "\n",
    "\n",
    "continuing_file_path =os.getcwd()+ '\\input.csv'\n",
    "\n",
    "d = pd.read_csv(continuing_file_path, #loading that dataset\n",
    "                encoding = \"ISO-8859-1\", \n",
    "                header=None\n",
    "               )\n",
    "\n",
    "\n",
    "analyzer = SentimentIntensityAnalyzer()\n",
    "#for sentence in sentences:\n",
    "#    vs = analyzer.polarity_scores(sentence)\n",
    "#    print(\"{:-<65} {}\".format(sentence, str(vs)))\n",
    "\n",
    "df = pd.DataFrame(columns=['neg', 'neu', 'pos','compound', 'text'])\n",
    "print(df)\n",
    "\n",
    "for index, row in d.iterrows():\n",
    "    vs = analyzer.polarity_scores(row[0])\n",
    "    vs['text'] = row[0]\n",
    "    df = df.append(vs, ignore_index=True)\n",
    "\n",
    "    \n",
    "\n",
    "\n"
   ]
  },
  {
   "cell_type": "code",
   "execution_count": 55,
   "metadata": {},
   "outputs": [],
   "source": [
    "df.to_csv(\"output.csv\",index=None, header=True,encoding=\"utf-8\")"
   ]
  }
 ],
 "metadata": {
  "kernelspec": {
   "display_name": "Python 3",
   "language": "python",
   "name": "python3"
  },
  "language_info": {
   "codemirror_mode": {
    "name": "ipython",
    "version": 3
   },
   "file_extension": ".py",
   "mimetype": "text/x-python",
   "name": "python",
   "nbconvert_exporter": "python",
   "pygments_lexer": "ipython3",
   "version": "3.7.4"
  }
 },
 "nbformat": 4,
 "nbformat_minor": 2
}
